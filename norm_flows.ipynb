{
  "nbformat": 4,
  "nbformat_minor": 0,
  "metadata": {
    "colab": {
      "name": "norm flows.ipynb",
      "provenance": [],
      "include_colab_link": true
    },
    "kernelspec": {
      "name": "python3",
      "display_name": "Python 3"
    }
  },
  "cells": [
    {
      "cell_type": "markdown",
      "metadata": {
        "id": "view-in-github",
        "colab_type": "text"
      },
      "source": [
        "<a href=\"https://colab.research.google.com/github/menasiraziz/IMU/blob/master/norm_flows.ipynb\" target=\"_parent\"><img src=\"https://colab.research.google.com/assets/colab-badge.svg\" alt=\"Open In Colab\"/></a>"
      ]
    },
    {
      "cell_type": "code",
      "metadata": {
        "id": "q3CF2jhkyPrj",
        "colab_type": "code",
        "colab": {}
      },
      "source": [
        "import numpy as np\n",
        "def sample_data():\n",
        "  count = 100000\n",
        "  rand = np.random.RandomState(0)\n",
        "  a = [[-1.5, 2.5]] + rand.randn(count // 3, 2) * 0.2\n",
        "  b = [[1.5, 2.5]] + rand.randn(count // 3, 2) * 0.2\n",
        "  c = np.c_[2 * np.cos(np.linspace(0, np.pi, count // 3)),\n",
        "  -np.sin(np.linspace(0, np.pi, count // 3))]\n",
        "\n",
        "  c += rand.randn(*c.shape) * 0.2\n",
        "  data_x = np.concatenate([a, b, c], axis=0)\n",
        "  data_y = np.array([0] * len(a) + [1] * len(b) + [2] * len(c))\n",
        "  perm = rand.permutation(len(data_x))\n",
        "  return data_x[perm], data_y[perm]"
      ],
      "execution_count": 0,
      "outputs": []
    },
    {
      "cell_type": "code",
      "metadata": {
        "id": "263rSRZ_zjch",
        "colab_type": "code",
        "colab": {}
      },
      "source": [
        "x_d,y_d=sample_data()"
      ],
      "execution_count": 0,
      "outputs": []
    },
    {
      "cell_type": "code",
      "metadata": {
        "id": "Cmj3NX220uO5",
        "colab_type": "code",
        "colab": {
          "base_uri": "https://localhost:8080/",
          "height": 50
        },
        "outputId": "b4cfc215-7861-45f2-f4c3-ceb9ba0c0b5c"
      },
      "source": [
        "import torch\n",
        "x_data=torch.from_numpy(x_d)\n",
        "m1=torch.FloatTensor(x_data.size()[0]).uniform_()<0.8\n",
        "print(m1.shape)\n",
        "train_set=x_data[m1]\n",
        "test_set=x_data[~m1]\n",
        "train_set.size()"
      ],
      "execution_count": 4,
      "outputs": [
        {
          "output_type": "stream",
          "text": [
            "torch.Size([99999])\n"
          ],
          "name": "stdout"
        },
        {
          "output_type": "execute_result",
          "data": {
            "text/plain": [
              "torch.Size([79967, 2])"
            ]
          },
          "metadata": {
            "tags": []
          },
          "execution_count": 4
        }
      ]
    },
    {
      "cell_type": "code",
      "metadata": {
        "id": "fbgR8Y0xzqBU",
        "colab_type": "code",
        "colab": {
          "base_uri": "https://localhost:8080/",
          "height": 252
        },
        "outputId": "4a51537b-8fec-453c-fe8a-24ca80c6de52"
      },
      "source": [
        "import torch\n",
        "import torch.nn as nn\n",
        "import torch.nn.functional as F\n",
        "\n",
        "class SandTLayer(nn.Module):\n",
        "    def __init__(self):\n",
        "        super(SandTLayer, self).__init__()\n",
        "        self.fc1 = nn.Linear(2, 10)\n",
        "        self.fc2 = nn.Linear(10,10)\n",
        "        self.fc3 = nn.Linear(10,2)\n",
        "        self.prelu=nn.PReLU()\n",
        "    def forward(self,x):\n",
        "      #print(x)\n",
        "      z=(self.fc3(torch.relu(self.fc2(torch.relu(self.fc1(x))))))\n",
        "      a1=torch.tanh(z[:,0])\n",
        "      a2=self.prelu(z[:,1])\n",
        "      y=torch.stack([a1,a2])\n",
        "      #print(a1)\n",
        "      #print(a2)\n",
        "      #print(y)\n",
        "      return y.permute(1,0)\n",
        "\n",
        "net=SandTLayer()\n",
        "mask=torch.tensor([0,1],dtype=bool)\n",
        "print(mask)\n",
        "inp=torch.randn(10,2)\n",
        "print(inp.shape)\n",
        "out=net(inp*mask)\n",
        "print(out)\n",
        "print(out[:,0])"
      ],
      "execution_count": 5,
      "outputs": [
        {
          "output_type": "stream",
          "text": [
            "tensor([False,  True])\n",
            "torch.Size([10, 2])\n",
            "tensor([[-0.2798, -0.0775],\n",
            "        [-0.2730, -0.0678],\n",
            "        [-0.2802, -0.0776],\n",
            "        [-0.2974, -0.0846],\n",
            "        [-0.3052, -0.0874],\n",
            "        [-0.2997, -0.0855],\n",
            "        [-0.2596, -0.0688],\n",
            "        [-0.2740, -0.0681],\n",
            "        [-0.2883, -0.0809],\n",
            "        [-0.2636, -0.0682]], grad_fn=<PermuteBackward>)\n",
            "tensor([-0.2798, -0.2730, -0.2802, -0.2974, -0.3052, -0.2997, -0.2596, -0.2740,\n",
            "        -0.2883, -0.2636], grad_fn=<SelectBackward>)\n"
          ],
          "name": "stdout"
        }
      ]
    },
    {
      "cell_type": "code",
      "metadata": {
        "id": "xXEwbNS0ztsX",
        "colab_type": "code",
        "colab": {
          "base_uri": "https://localhost:8080/",
          "height": 558
        },
        "outputId": "0530a5d5-f536-44ea-f1f9-52123e9cc3aa"
      },
      "source": [
        "import torch\n",
        "import torch.nn as nn\n",
        "import torch.nn.functional as F\n",
        "\n",
        "class CouplingLayer(nn.Module):\n",
        "    def __init__(self,mask):\n",
        "        super(CouplingLayer, self).__init__()\n",
        "        self.l=SandTLayer()\n",
        "        self.b=mask\n",
        "    def forward(self,x):\n",
        "      mask=self.b.repeat(x.shape[0],1)\n",
        "      a=self.l(x*self.b)\n",
        "      y1=x[~mask]*torch.exp(a[:,0])+a[:,1]\n",
        "      if(self.b[0]):\n",
        "        y=torch.stack([x[mask],y1])\n",
        "      else:\n",
        "        y=torch.stack([y1,x[mask]])\n",
        "      return (y.permute(1,0),a[:,0])\n",
        "    def inverse(self,x):\n",
        "      mask=self.b.repeat(x.shape[0],1)\n",
        "      a=self.l(x*self.b)\n",
        "      y1=(x[~mask]-a[:,1])*torch.exp(-a[:,0])\n",
        "      if(self.b[0]):\n",
        "        y=torch.stack([x[mask],y1])\n",
        "      else:\n",
        "        y=torch.stack([y1,x[mask]])\n",
        "      return y.permute(1,0)\n",
        "\n",
        "\n",
        "\n",
        "b=torch.tensor([1,0],dtype=bool)\n",
        "mod=CouplingLayer(b)\n",
        "a = 2*torch.randn(10,2)\n",
        "print(a)\n",
        "a=mod(a)\n",
        "print(a)\n",
        "print(mod.inverse(a[0]))"
      ],
      "execution_count": 6,
      "outputs": [
        {
          "output_type": "stream",
          "text": [
            "tensor([[-0.3416,  0.9077],\n",
            "        [-0.3836, -0.5798],\n",
            "        [ 0.4766, -0.1078],\n",
            "        [-3.0206,  2.2038],\n",
            "        [ 1.3335, -1.4539],\n",
            "        [ 1.3321,  2.6637],\n",
            "        [ 1.1967, -3.2234],\n",
            "        [ 0.3160, -0.2954],\n",
            "        [-3.2394, -0.4700],\n",
            "        [ 0.2283,  1.1824]])\n",
            "(tensor([[-0.3416,  1.4332],\n",
            "        [-0.3836, -0.9745],\n",
            "        [ 0.4766, -0.0846],\n",
            "        [-3.0206,  5.1431],\n",
            "        [ 1.3335, -2.1699],\n",
            "        [ 1.3321,  4.4038],\n",
            "        [ 1.1967, -4.9339],\n",
            "        [ 0.3160, -0.3984],\n",
            "        [-3.2394, -1.2623],\n",
            "        [ 0.2283,  1.7920]], grad_fn=<PermuteBackward>), tensor([0.4776, 0.4860, 0.3964, 0.8693, 0.4679, 0.4678, 0.4539, 0.4002, 0.8872,\n",
            "        0.4023], grad_fn=<SelectBackward>))\n",
            "tensor([[-0.3416,  0.9077],\n",
            "        [-0.3836, -0.5798],\n",
            "        [ 0.4766, -0.1078],\n",
            "        [-3.0206,  2.2038],\n",
            "        [ 1.3335, -1.4539],\n",
            "        [ 1.3321,  2.6637],\n",
            "        [ 1.1967, -3.2234],\n",
            "        [ 0.3160, -0.2954],\n",
            "        [-3.2394, -0.4700],\n",
            "        [ 0.2283,  1.1824]], grad_fn=<PermuteBackward>)\n"
          ],
          "name": "stdout"
        }
      ]
    },
    {
      "cell_type": "code",
      "metadata": {
        "id": "FmsExtI5zz51",
        "colab_type": "code",
        "colab": {
          "base_uri": "https://localhost:8080/",
          "height": 353
        },
        "outputId": "11ec5c78-c5ca-4eb5-e961-1c7494fcf419"
      },
      "source": [
        "\n",
        "class myNet(nn.Module):\n",
        "  def __init__(self):\n",
        "    super(myNet,self).__init__()\n",
        "    b=torch.tensor([[1,0],[0,1],[1,0],[0,1]],dtype=bool)\n",
        "    self.l1 = CouplingLayer(b[0])\n",
        "    self.l2 = CouplingLayer(b[1])\n",
        "    self.l3 = CouplingLayer(b[2])\n",
        "    self.l4 = CouplingLayer(b[3])\n",
        "  \n",
        "  def forward(self,x):\n",
        "    x,s1=self.l1(x)\n",
        "    x,s2=self.l2(x)\n",
        "    x,s3=self.l3(x)\n",
        "    x,s4=self.l4(x)\n",
        "    y=torch.sigmoid(x)\n",
        "    return (y,x,s1,s2,s3,s4)\n",
        "  def inverse(self,y):\n",
        "    #print(y)\n",
        "    a=1-y\n",
        "    #print(a)\n",
        "    y=torch.log(y/(1-y))\n",
        "    #print(y)\n",
        "    return self.l1.inverse(self.l2.inverse(self.l3.inverse(self.l4.inverse(y))))\n",
        "\n",
        "net = myNet()\n",
        "a = torch.randn(10,2)\n",
        "(y,x,s1,s2,s3,s4)=net(a)\n",
        "#print(y)\n",
        "print(a)\n",
        "net.inverse(y)\n"
      ],
      "execution_count": 7,
      "outputs": [
        {
          "output_type": "stream",
          "text": [
            "tensor([[ 1.3648,  0.6599],\n",
            "        [-1.3157,  0.5638],\n",
            "        [-0.0850,  0.2427],\n",
            "        [ 0.2566, -1.1430],\n",
            "        [ 0.9861, -1.4380],\n",
            "        [ 0.1472, -0.8074],\n",
            "        [-1.3946,  0.4507],\n",
            "        [-1.1728,  0.4543],\n",
            "        [-0.4393, -1.6603],\n",
            "        [ 0.0941,  0.3751]])\n"
          ],
          "name": "stdout"
        },
        {
          "output_type": "execute_result",
          "data": {
            "text/plain": [
              "tensor([[ 1.3648,  0.6599],\n",
              "        [-1.3157,  0.5638],\n",
              "        [-0.0850,  0.2427],\n",
              "        [ 0.2566, -1.1430],\n",
              "        [ 0.9861, -1.4380],\n",
              "        [ 0.1472, -0.8074],\n",
              "        [-1.3946,  0.4507],\n",
              "        [-1.1728,  0.4543],\n",
              "        [-0.4393, -1.6603],\n",
              "        [ 0.0941,  0.3751]], grad_fn=<PermuteBackward>)"
            ]
          },
          "metadata": {
            "tags": []
          },
          "execution_count": 7
        }
      ]
    },
    {
      "cell_type": "code",
      "metadata": {
        "id": "gV8M8fmY0AOx",
        "colab_type": "code",
        "colab": {}
      },
      "source": [
        "def myloss(y,x,s1,s2,s3,s4):\n",
        "  loss=2*torch.sum(F.logsigmoid(x))-torch.sum(x)+torch.sum(s1)+torch.sum(s2)+torch.sum(s3)+torch.sum(s4)\n",
        "  return -loss"
      ],
      "execution_count": 0,
      "outputs": []
    },
    {
      "cell_type": "code",
      "metadata": {
        "id": "2ll62oZR0Eeg",
        "colab_type": "code",
        "colab": {
          "base_uri": "https://localhost:8080/",
          "height": 34
        },
        "outputId": "897a885b-9238-4a7b-847d-6ee33968fc9f"
      },
      "source": [
        "net = myNet()\n",
        "(y,x,s1,s2,s3,s4)=net(train_set[:1000].float())\n",
        "#myloss(x,s1,s2,s3,s4)\n",
        "#torch.sum(s4)\n",
        "print(myloss(y,x,s1,s2,s3,s4))"
      ],
      "execution_count": 9,
      "outputs": [
        {
          "output_type": "stream",
          "text": [
            "tensor(4429.6162, grad_fn=<NegBackward>)\n"
          ],
          "name": "stdout"
        }
      ]
    },
    {
      "cell_type": "code",
      "metadata": {
        "id": "SLIjPJ220J0f",
        "colab_type": "code",
        "colab": {
          "base_uri": "https://localhost:8080/",
          "height": 202
        },
        "outputId": "2b3b4d1e-500a-4a07-fcdd-bb3bba908906"
      },
      "source": [
        "import torch.optim as optim\n",
        "net = myNet()\n",
        "optimizer = optim.Adam(net.parameters(), lr=0.01)\n",
        "for epoch in range(500):  # loop over the dataset multiple times\n",
        "\n",
        "\n",
        "    optimizer.zero_grad()\n",
        "    (y,x,s1,s2,s3,s4)=net(train_set.float())\n",
        "    loss = myloss(y,x,s1,s2,s3,s4)/train_set.shape[0]\n",
        "    loss.backward()\n",
        "    optimizer.step()\n",
        "    if(epoch%50==0):\n",
        "      print(loss)  \n",
        "    #print(loss)\n",
        "\n",
        "print('Finished Training')"
      ],
      "execution_count": 13,
      "outputs": [
        {
          "output_type": "stream",
          "text": [
            "tensor(4.1243, grad_fn=<DivBackward0>)\n",
            "tensor(2.8813, grad_fn=<DivBackward0>)\n",
            "tensor(2.5493, grad_fn=<DivBackward0>)\n",
            "tensor(2.4457, grad_fn=<DivBackward0>)\n",
            "tensor(2.3918, grad_fn=<DivBackward0>)\n",
            "tensor(2.3607, grad_fn=<DivBackward0>)\n",
            "tensor(2.3027, grad_fn=<DivBackward0>)\n",
            "tensor(2.4450, grad_fn=<DivBackward0>)\n",
            "tensor(2.0729, grad_fn=<DivBackward0>)\n",
            "tensor(1.6731, grad_fn=<DivBackward0>)\n",
            "Finished Training\n"
          ],
          "name": "stdout"
        }
      ]
    },
    {
      "cell_type": "code",
      "metadata": {
        "id": "pccNYXIe1wok",
        "colab_type": "code",
        "colab": {
          "base_uri": "https://localhost:8080/",
          "height": 265
        },
        "outputId": "842b00ba-2671-475b-ee49-7ffd0aad2549"
      },
      "source": [
        "import matplotlib.pyplot as plt\n",
        "out=y.detach().numpy()\n",
        "plt.scatter(out[:,0], out[:,1])\n",
        "plt.show()"
      ],
      "execution_count": 14,
      "outputs": [
        {
          "output_type": "display_data",
          "data": {
            "image/png": "[encoded data removed]",
            "text/plain": [
              "<Figure size 432x288 with 1 Axes>"
            ]
          },
          "metadata": {
            "tags": []
          }
        }
      ]
    },
    {
      "cell_type": "code",
      "metadata": {
        "id": "47ZRC6MM1xc-",
        "colab_type": "code",
        "colab": {
          "base_uri": "https://localhost:8080/",
          "height": 513
        },
        "outputId": "1d4071d4-fbec-4251-9685-664bbe973bac"
      },
      "source": [
        "gen_data=torch.FloatTensor(1000,2).uniform_(0,1)\n",
        "gnp=gen_data.numpy()\n",
        "plt.scatter(gnp[:,0], gnp[:,1])\n",
        "plt.show()\n",
        "gg=net.inverse(gen_data)\n",
        "gnp=gg.detach().numpy()\n",
        "plt.scatter(gnp[:,0], gnp[:,1])\n",
        "plt.show()"
      ],
      "execution_count": 15,
      "outputs": [
        {
          "output_type": "display_data",
          "data": {
            "image/png": "[encoded data removed]",
            "text/plain": [
              "<Figure size 432x288 with 1 Axes>"
            ]
          },
          "metadata": {
            "tags": []
          }
        },
        {
          "output_type": "display_data",
          "data": {
            "image/png": "[encoded data removed]",
            "text/plain": [
              "<Figure size 432x288 with 1 Axes>"
            ]
          },
          "metadata": {
            "tags": []
          }
        }
      ]
    }
  ]
}